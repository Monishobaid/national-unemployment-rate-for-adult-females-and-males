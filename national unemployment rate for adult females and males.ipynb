{
  "nbformat": 4,
  "nbformat_minor": 0,
  "metadata": {
    "colab": {
      "name": "modeltraining.ipynb",
      "provenance": []
    },
    "kernelspec": {
      "name": "python3",
      "display_name": "Python 3"
    },
    "language_info": {
      "name": "python"
    }
  },
  "cells": [
    {
      "cell_type": "code",
      "execution_count": 1,
      "metadata": {
        "colab": {
          "base_uri": "https://localhost:8080/"
        },
        "id": "j0u7KJeWzZhd",
        "outputId": "8d7b8bf4-e1ff-467f-edac-505fafad0b67"
      },
      "outputs": [
        {
          "output_type": "stream",
          "name": "stdout",
          "text": [
            "Mounted at /content/gdrive\n"
          ]
        }
      ],
      "source": [
        "from google.colab import drive\n",
        "\n",
        "drive.mount('/content/gdrive')"
      ]
    },
    {
      "cell_type": "code",
      "source": [
        "cd /content/gdrive/My Drive/Linear_Regression/linear regression 2"
      ],
      "metadata": {
        "colab": {
          "base_uri": "https://localhost:8080/"
        },
        "id": "J4XyEN_yzmr0",
        "outputId": "be0976f6-8091-4fba-8873-e3c469ffdbef"
      },
      "execution_count": 4,
      "outputs": [
        {
          "output_type": "stream",
          "name": "stdout",
          "text": [
            "/content/gdrive/My Drive/Linear_Regression/linear regression 2\n"
          ]
        }
      ]
    },
    {
      "cell_type": "code",
      "source": [
        "ls"
      ],
      "metadata": {
        "colab": {
          "base_uri": "https://localhost:8080/"
        },
        "id": "oooUlAEfzmus",
        "outputId": "3c19e8d3-741e-4168-9b07-3c0ab8de07d2"
      },
      "execution_count": 5,
      "outputs": [
        {
          "output_type": "stream",
          "name": "stdout",
          "text": [
            "dataset.csv  modeltraining.ipynb\n"
          ]
        }
      ]
    },
    {
      "cell_type": "code",
      "source": [
        "import numpy as np\n",
        "import matplotlib.pyplot as plt\n",
        "import pandas as pd"
      ],
      "metadata": {
        "id": "gBYYahq8zmxa"
      },
      "execution_count": 6,
      "outputs": []
    },
    {
      "cell_type": "code",
      "source": [
        "#import data set\n",
        "dataset= pd.read_csv('dataset.csv')\n",
        "X= dataset.iloc[:,:-1].values\n",
        "Y= dataset.iloc[:,1].values"
      ],
      "metadata": {
        "id": "eP9bmGD5zmz7"
      },
      "execution_count": 8,
      "outputs": []
    },
    {
      "cell_type": "code",
      "source": [
        "#Splitting the data\n",
        "from sklearn.model_selection import train_test_split\n",
        "X_train, X_test, Y_train, Y_test= train_test_split(X,Y,test_size= 1/4)\n",
        "\n",
        "#Fitting Simple Linear Regression ipynb\n",
        "#This is called Model \n",
        "from sklearn.linear_model import LinearRegression\n",
        "regressor= LinearRegression()\n",
        "regressor.fit(X_train,Y_train)"
      ],
      "metadata": {
        "colab": {
          "base_uri": "https://localhost:8080/"
        },
        "id": "Vas-h2TWzm2R",
        "outputId": "b0f2bf61-aa85-497e-c526-9538f96bfdec"
      },
      "execution_count": 9,
      "outputs": [
        {
          "output_type": "execute_result",
          "data": {
            "text/plain": [
              "LinearRegression()"
            ]
          },
          "metadata": {},
          "execution_count": 9
        }
      ]
    },
    {
      "cell_type": "code",
      "source": [
        "##Predicting the test results\n",
        "Y_pred= regressor.predict(X_test)\n",
        "\n",
        "#Visualising the training set Results\n",
        "\n",
        "plt.scatter(X_train, Y_train, color='red')\n",
        "plt.plot(X_train, regressor.predict(X_train), color='blue')\n",
        "plt.title('National Unemployment Male Vs. Female(Training set)')\n",
        "plt.xlabel('national unemployment rate for adult males')\n",
        "plt.ylabel('national unemployment rate for adult females')\n",
        "plt.show()\n",
        "plt.scatter(X_test, Y_test, color='red')\n",
        "plt.plot(X_test, regressor.predict(X_test), color='blue')\n",
        "plt.title('National Unemployment Male Vs. Female(Test set)')\n",
        "plt.xlabel('national unemployment rate for adult males')\n",
        "plt.ylabel('national unemployment rate for adult females')\n",
        "plt.show()"
      ],
      "metadata": {
        "colab": {
          "base_uri": "https://localhost:8080/",
          "height": 573
        },
        "id": "GtI7NALezm4y",
        "outputId": "ce43cc69-b54f-41f1-8c98-1f627a47ed54"
      },
      "execution_count": 10,
      "outputs": [
        {
          "output_type": "display_data",
          "data": {
            "text/plain": [
              "<Figure size 432x288 with 1 Axes>"
            ],
            "image/png": "[encoded data removed]"
          },
          "metadata": {
            "needs_background": "light"
          }
        },
        {
          "output_type": "display_data",
          "data": {
            "text/plain": [
              "<Figure size 432x288 with 1 Axes>"
            ],
            "image/png": "[encoded data removed]"
          },
          "metadata": {
            "needs_background": "light"
          }
        }
      ]
    },
    {
      "cell_type": "code",
      "source": [
        "print(regressor.predict([[1002]]))"
      ],
      "metadata": {
        "colab": {
          "base_uri": "https://localhost:8080/"
        },
        "id": "6uFb9GEyzm7f",
        "outputId": "4f38626f-16df-446f-9a6c-3387dd646687"
      },
      "execution_count": 11,
      "outputs": [
        {
          "output_type": "stream",
          "name": "stdout",
          "text": [
            "[673.35743361]\n"
          ]
        }
      ]
    },
    {
      "cell_type": "code",
      "source": [
        ""
      ],
      "metadata": {
        "id": "RBrOjSymzm9p"
      },
      "execution_count": null,
      "outputs": []
    },
    {
      "cell_type": "code",
      "source": [
        ""
      ],
      "metadata": {
        "id": "dXs85ZeIznAD"
      },
      "execution_count": null,
      "outputs": []
    },
    {
      "cell_type": "code",
      "source": [
        ""
      ],
      "metadata": {
        "id": "WV6OHbr9znCa"
      },
      "execution_count": null,
      "outputs": []
    },
    {
      "cell_type": "code",
      "source": [
        ""
      ],
      "metadata": {
        "id": "Xf2hoEjqznE4"
      },
      "execution_count": null,
      "outputs": []
    },
    {
      "cell_type": "code",
      "source": [
        ""
      ],
      "metadata": {
        "id": "SOunXT5bznHn"
      },
      "execution_count": null,
      "outputs": []
    },
    {
      "cell_type": "code",
      "source": [
        ""
      ],
      "metadata": {
        "id": "DBhj-IXCznKA"
      },
      "execution_count": null,
      "outputs": []
    }
  ]
}